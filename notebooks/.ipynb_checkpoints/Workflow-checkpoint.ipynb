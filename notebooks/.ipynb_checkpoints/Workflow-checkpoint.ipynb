{
 "cells": [
  {
   "cell_type": "markdown",
   "metadata": {},
   "source": [
    "# Turing.jl Workflow"
   ]
  },
  {
   "cell_type": "markdown",
   "metadata": {},
   "source": [
    "Load packages"
   ]
  },
  {
   "cell_type": "code",
   "execution_count": null,
   "metadata": {},
   "outputs": [],
   "source": [
    "using Turing, Distributions, Gadfly\n",
    "using Mamba: describe\n",
    "srand(1234)\n",
    ";"
   ]
  },
  {
   "cell_type": "code",
   "execution_count": null,
   "metadata": {},
   "outputs": [],
   "source": [
    "x = [(randn(5) .- 5); (randn(5) .+ 5)]"
   ]
  },
  {
   "cell_type": "code",
   "execution_count": null,
   "metadata": {},
   "outputs": [],
   "source": [
    "l_x = layer(x=x, y=zeros(length(x)), Geom.point)\n",
    "plot(l_x)"
   ]
  },
  {
   "cell_type": "code",
   "execution_count": null,
   "metadata": {},
   "outputs": [],
   "source": [
    "l_x"
   ]
  },
  {
   "cell_type": "markdown",
   "metadata": {},
   "source": [
    "## Define a very simple Gaussian model\n",
    "$$ \\mu \\sim \\textit{Normal}(0, 1) $$\n",
    "$$ x_i \\sim \\textit{Normal}(\\mu, 1), i = 1 \\dots N $$"
   ]
  },
  {
   "cell_type": "code",
   "execution_count": null,
   "metadata": {},
   "outputs": [],
   "source": [
    "@model g_simple(x) = begin\n",
    "    m ~ Normal(0, 4)\n",
    "    for i = 1:length(x)\n",
    "        x[i] ~ Normal(m, 4)\n",
    "    end\n",
    "end"
   ]
  },
  {
   "cell_type": "markdown",
   "metadata": {},
   "source": [
    "## Inference by Markov Chain Monte Carlo"
   ]
  },
  {
   "cell_type": "code",
   "execution_count": null,
   "metadata": {},
   "outputs": [],
   "source": [
    "chn1 = sample(g_simple(x), HMC(1000, 0.2, 3))"
   ]
  },
  {
   "cell_type": "markdown",
   "metadata": {},
   "source": [
    "## Check the statistics of the result"
   ]
  },
  {
   "cell_type": "code",
   "execution_count": null,
   "metadata": {},
   "outputs": [],
   "source": [
    "describe(chn1)"
   ]
  },
  {
   "cell_type": "code",
   "execution_count": null,
   "metadata": {},
   "outputs": [],
   "source": [
    "p1 = plot(chn1);  draw(PNG(18cm, 6cm), gridstack([p1[1] p1[2]]));"
   ]
  },
  {
   "cell_type": "markdown",
   "metadata": {},
   "source": [
    "## Visualization"
   ]
  },
  {
   "cell_type": "code",
   "execution_count": null,
   "metadata": {},
   "outputs": [],
   "source": [
    "m = mean(chn1[:m])\n",
    "l_simple_g_mean = layer(xintercept=[m], Geom.vline)\n",
    "l_simple_g = layer([x->pdf(Normal(m, 1), x)], -15, 15, Geom.line)\n",
    "plot(l_x, l_simple_g_mean, l_simple_g)"
   ]
  },
  {
   "cell_type": "markdown",
   "metadata": {},
   "source": [
    "## A better model\n",
    "\n",
    "$$ \\sigma^2 \\sim \\textit{Inv-Gamma}(2, 3),  \\mu \\sim \\textit{Normal}(0, \\sigma) $$\n",
    "$$ x \\sim \\textit{Normal}(\\mu, \\sigma), i = 1 \\dots N  $$"
   ]
  },
  {
   "cell_type": "code",
   "execution_count": null,
   "metadata": {},
   "outputs": [],
   "source": [
    "@model g_better(x) = begin\n",
    "    s ~ InverseGamma(2, 3)\n",
    "    m ~ Normal(0, sqrt(s))\n",
    "    for i = 1:length(x)\n",
    "        x[i] ~ Normal(m, sqrt(s))\n",
    "    end\n",
    "end"
   ]
  },
  {
   "cell_type": "code",
   "execution_count": null,
   "metadata": {},
   "outputs": [],
   "source": [
    "chn2 = sample(g_better(x), HMC(1000, 0.2, 4))"
   ]
  },
  {
   "cell_type": "code",
   "execution_count": null,
   "metadata": {},
   "outputs": [],
   "source": [
    "m = mean(chn2[:m])\n",
    "s = mean(chn2[:s])\n",
    "l_simple_g_mean = layer(xintercept=[m], Geom.vline)\n",
    "l_simple_g = layer([x->pdf(Normal(m, sqrt(s)), x)], -15, 15, Geom.line)\n",
    "plot(l_x, l_simple_g_mean, l_simple_g)"
   ]
  },
  {
   "cell_type": "markdown",
   "metadata": {},
   "source": [
    "## A even better model - mixture of Gaussians\n",
    "\n",
    "$$ \\sigma^2_k \\sim \\textit{Inv-Gamma}(2, 3),  \\mu_k \\sim \\textit{Normal}(0, \\sigma), k = 1 \\dots K  $$\n",
    "$$ z_i \\sim \\textit{Cat}(K) , x_i \\sim \\textit{Normal}(\\mu_{z_i}, \\sigma_{z_i}), i = 1 \\dots N  $$"
   ]
  },
  {
   "cell_type": "code",
   "execution_count": null,
   "metadata": {},
   "outputs": [],
   "source": [
    "@model g_mix(x) = begin\n",
    "    s = Vector{Real}(2)\n",
    "    m = Vector{Real}(2)\n",
    "    for i = 1:2\n",
    "        s[i] ~ InverseGamma(2, 3)\n",
    "        m[i] ~ Normal(0, sqrt(s[i])) \n",
    "    end\n",
    "    z = tzeros(Int, length(x))\n",
    "    for i = 1:length(x)\n",
    "        z[i] ~ Categorical(2)\n",
    "        x[i] ~ Normal(m[z[i]], sqrt(s[z[i]]))\n",
    "    end\n",
    "end"
   ]
  },
  {
   "cell_type": "code",
   "execution_count": null,
   "metadata": {},
   "outputs": [],
   "source": [
    "chn3 = sample(g_mix(x), Gibbs(200, HMC(1, 0.2, 4, :s, :m), PG(50, 1, :z)))"
   ]
  },
  {
   "cell_type": "code",
   "execution_count": null,
   "metadata": {},
   "outputs": [],
   "source": [
    "m = mean(chn3[:m][100:end])\n",
    "s = mean(chn3[:s][100:end])\n",
    "z = mean(chn3[:z][100:end])\n",
    "n1 = sum(map(z_ -> abs(z_-1) <  abs(z_-2), z))\n",
    "n2 = sum(map(z_ -> abs(z_-1) >= abs(z_-2), z))\n",
    "w = [n1 / 10, n2 / 10]\n",
    "l_simple_g_mean = layer(xintercept=[m...], Geom.vline)\n",
    "l_simple_g = layer([x->w[1] * pdf(Normal(m[1], sqrt(s[1])), x) + w[2] * pdf(Normal(m[2], sqrt(s[2])), x)], -15, 15, Geom.line)\n",
    "l_simple_g_1 = layer([x->w[1] * pdf(Normal(m[1], sqrt(s[1])), x)], -15, 15, Geom.line, Theme(line_style=:dash, default_color=colorant\"springgreen\"))\n",
    "l_simple_g_2 = layer([x->w[1] * pdf(Normal(m[2], sqrt(s[2])), x)], -15, 15, Geom.line, Theme(line_style=:dash, default_color=colorant\"springgreen\"))\n",
    "plot(l_x, l_simple_g_mean, l_simple_g, l_simple_g_1, l_simple_g_2)"
   ]
  },
  {
   "cell_type": "code",
   "execution_count": null,
   "metadata": {
    "collapsed": true
   },
   "outputs": [],
   "source": []
  }
 ],
 "metadata": {
  "anaconda-cloud": {},
  "kernelspec": {
   "display_name": "Julia 0.5.2",
   "language": "julia",
   "name": "julia-0.5"
  },
  "language_info": {
   "file_extension": ".jl",
   "mimetype": "application/julia",
   "name": "julia",
   "version": "0.5.2"
  }
 },
 "nbformat": 4,
 "nbformat_minor": 1
}
